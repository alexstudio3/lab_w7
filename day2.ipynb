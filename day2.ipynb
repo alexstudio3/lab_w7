{
 "cells": [
  {
   "cell_type": "code",
   "execution_count": 22,
   "metadata": {},
   "outputs": [],
   "source": [
    "import pandas as pd\n",
    "import numpy as np\n",
    "pd.set_option('display.max_columns', None)\n",
    "import warnings\n",
    "warnings.filterwarnings('ignore')\n",
    "import matplotlib.pyplot as plt\n",
    "import seaborn as sns \n",
    "from scipy.stats import ttest_ind "
   ]
  },
  {
   "cell_type": "markdown",
   "metadata": {
    "id": "-W8u4ReQDXlK"
   },
   "source": [
    "# Lesson 4"
   ]
  },
  {
   "cell_type": "markdown",
   "metadata": {
    "id": "wmjHye95DZkV"
   },
   "source": [
    "## Hypothesis testing"
   ]
  },
  {
   "cell_type": "markdown",
   "metadata": {
    "id": "8DuoMmAOLWYS"
   },
   "source": [
    "We want to test if our the **sample mean** is not equal to the **population mean** = 80.94. We also know that our **sample** has a size of 25 individuals.\n",
    "\n",
    "$t = \\frac{(\\bar{X}-\\mu)}{\\hat{\\sigma}/\\sqrt{n}}$\n",
    "\n",
    "where:\n",
    "\n",
    "* $\\bar{X}$ is the **sample mean**\n",
    "* $\\mu$ is the **population mean**\n",
    "* $\\hat{\\sigma}$ is the **sample standard deviation**\n",
    "* $n$ is the number of measures in our sample"
   ]
  },
  {
   "cell_type": "code",
   "execution_count": 1,
   "metadata": {
    "colab": {
     "base_uri": "https://localhost:8080/"
    },
    "id": "UzOQzuSaDcnm",
    "outputId": "22f07658-26cb-440b-be39-d54f84fb78f3"
   },
   "outputs": [
    {
     "name": "stdout",
     "output_type": "stream",
     "text": [
      "Statistic is:  4.761904761904759\n"
     ]
    }
   ],
   "source": [
    "import math\n",
    "\n",
    "sample_mean = 130.1\n",
    "pop_mean = 120\n",
    "sample_std = 21.21\n",
    "n = 100\n",
    "\n",
    "# calculate t stat\n",
    "statistic = (sample_mean - pop_mean)/(sample_std/math.sqrt(n))\n",
    "\n",
    "print(\"Statistic is: \", statistic)"
   ]
  },
  {
   "cell_type": "code",
   "execution_count": 13,
   "metadata": {
    "colab": {
     "base_uri": "https://localhost:8080/"
    },
    "id": "08EtnPB5HymX",
    "outputId": "677fe1a6-3d34-477f-e026-6827a8c4b8bc"
   },
   "outputs": [
    {
     "name": "stdout",
     "output_type": "stream",
     "text": [
      "The t-statistic for the sample 0 is: 5.368003783320794\n",
      "The t-statistic for the sample 1 is: 3.956477446125988\n",
      "The t-statistic for the sample 2 is: 5.889698858852175\n",
      "The t-statistic for the sample 3 is: 4.475653506813489\n",
      "The t-statistic for the sample 4 is: 4.619747471092248\n",
      "The t-statistic for the sample 5 is: 6.63010134697367\n",
      "The t-statistic for the sample 6 is: 5.827357606089939\n",
      "The t-statistic for the sample 7 is: 4.301238035986397\n",
      "The t-statistic for the sample 8 is: 4.3600456799175715\n",
      "The t-statistic for the sample 9 is: 5.683266933141984\n"
     ]
    }
   ],
   "source": [
    "from scipy import stats\n",
    "from numpy.random import normal\n",
    "\n",
    "\n",
    "samples = {}\n",
    "\n",
    "for i in range(10):\n",
    "    sample_name = \"sample_\" + str(i)\n",
    "    samples[sample_name] = normal(loc = 130.1, scale = 21.21, size = 100)\n",
    "    sample_mean = \"sample_\" + str(i) + \"_mean\"\n",
    "    samples[sample_mean] = np.mean(samples[sample_name])\n",
    "    sample_std = \"sample_\" + str(i) + \"_std\"\n",
    "    samples[sample_std] = np.std(samples[sample_name],ddof=1)\n",
    "    sample_statistic = \"sample_\" + str(i) + \"_t-statistic\"\n",
    "    samples[sample_statistic] = (samples[sample_mean]- pop_mean)/(samples[sample_std]/math.sqrt(n)) \n",
    "    \n",
    "    print(\"The t-statistic for the sample {} is: {}\".format(i,samples[sample_statistic]))\n"
   ]
  },
  {
   "cell_type": "markdown",
   "metadata": {
    "id": "UwSj7bGlOCkf"
   },
   "source": [
    "Now that we have the t-statistic for each random sample, let's make the two tails test. Why two tails? Because we are looking what is the probability that we get a **sample mean** which deviates from the **population mean** more than out t-statistic. We don't care if the our **sample mean** is bigger or smaller than the **population mean**.\n",
    "\n",
    "Therefore, we can ask ourselves what is the probability of having a deviation within -t and t.\n"
   ]
  },
  {
   "cell_type": "code",
   "execution_count": 16,
   "metadata": {
    "colab": {
     "base_uri": "https://localhost:8080/"
    },
    "id": "7CU5_N29O06V",
    "outputId": "a87f20ea-607f-46dd-8add-bb127f59646d"
   },
   "outputs": [
    {
     "name": "stdout",
     "output_type": "stream",
     "text": [
      "Assuming a significance level of 0.05\n",
      "The p-value of sample 0 is: 5.26e-07\n",
      "Therefore we discard the null hypothesis Ho, as it's very unlikely to get sample 0 given Ho.\n",
      "\n",
      "The p-value of sample 1 is: 0.000143\n",
      "Therefore we discard the null hypothesis Ho, as it's very unlikely to get sample 1 given Ho.\n",
      "\n",
      "The p-value of sample 2 is: 5.33e-08\n",
      "Therefore we discard the null hypothesis Ho, as it's very unlikely to get sample 2 given Ho.\n",
      "\n",
      "The p-value of sample 3 is: 2.04e-05\n",
      "Therefore we discard the null hypothesis Ho, as it's very unlikely to get sample 3 given Ho.\n",
      "\n",
      "The p-value of sample 4 is: 1.16e-05\n",
      "Therefore we discard the null hypothesis Ho, as it's very unlikely to get sample 4 given Ho.\n",
      "\n",
      "The p-value of sample 5 is: 1.78e-09\n",
      "Therefore we discard the null hypothesis Ho, as it's very unlikely to get sample 5 given Ho.\n",
      "\n",
      "The p-value of sample 6 is: 7.04e-08\n",
      "Therefore we discard the null hypothesis Ho, as it's very unlikely to get sample 6 given Ho.\n",
      "\n",
      "The p-value of sample 7 is: 3.99e-05\n",
      "Therefore we discard the null hypothesis Ho, as it's very unlikely to get sample 7 given Ho.\n",
      "\n",
      "The p-value of sample 8 is: 3.19e-05\n",
      "Therefore we discard the null hypothesis Ho, as it's very unlikely to get sample 8 given Ho.\n",
      "\n",
      "The p-value of sample 9 is: 1.33e-07\n",
      "Therefore we discard the null hypothesis Ho, as it's very unlikely to get sample 9 given Ho.\n",
      "\n"
     ]
    }
   ],
   "source": [
    "print(\"Assuming a significance level of 0.05\")\n",
    "\n",
    "\n",
    "# 120 is the pop_mean\n",
    "\n",
    "for i in range(10):\n",
    "    sample_name = \"sample_\" + str(i)\n",
    "    \n",
    "    print(\"The p-value of sample {} is: {:-5.3}\".format(i,stats.ttest_1samp(samples[sample_name],120)[1]))\n",
    "#     gets the p value\n",
    "    \n",
    "    if ( stats.ttest_1samp(samples[sample_name],120)[1] < 0.05 ):\n",
    "        \n",
    "        print(\"Therefore we discard the null hypothesis Ho, as it's very unlikely to get sample {} given Ho.\".format(i))\n",
    "    print()\n",
    "    \n",
    "    "
   ]
  },
  {
   "cell_type": "code",
   "execution_count": 16,
   "metadata": {},
   "outputs": [],
   "source": [
    "# Inferential statistics - T-test & P-value\n",
    "\n",
    "data = pd.read_table('../lab-t-tests-p-values/files_for_lab/machine.txt', sep='\\t')"
   ]
  },
  {
   "cell_type": "code",
   "execution_count": 17,
   "metadata": {},
   "outputs": [
    {
     "data": {
      "text/html": [
       "<div>\n",
       "<style scoped>\n",
       "    .dataframe tbody tr th:only-of-type {\n",
       "        vertical-align: middle;\n",
       "    }\n",
       "\n",
       "    .dataframe tbody tr th {\n",
       "        vertical-align: top;\n",
       "    }\n",
       "\n",
       "    .dataframe thead th {\n",
       "        text-align: right;\n",
       "    }\n",
       "</style>\n",
       "<table border=\"1\" class=\"dataframe\">\n",
       "  <thead>\n",
       "    <tr style=\"text-align: right;\">\n",
       "      <th></th>\n",
       "      <th>New machine</th>\n",
       "      <th>Old machine</th>\n",
       "    </tr>\n",
       "  </thead>\n",
       "  <tbody>\n",
       "    <tr>\n",
       "      <th>0</th>\n",
       "      <td>42.1</td>\n",
       "      <td>42.7</td>\n",
       "    </tr>\n",
       "    <tr>\n",
       "      <th>1</th>\n",
       "      <td>41.0</td>\n",
       "      <td>43.6</td>\n",
       "    </tr>\n",
       "    <tr>\n",
       "      <th>2</th>\n",
       "      <td>41.3</td>\n",
       "      <td>43.8</td>\n",
       "    </tr>\n",
       "    <tr>\n",
       "      <th>3</th>\n",
       "      <td>41.8</td>\n",
       "      <td>43.3</td>\n",
       "    </tr>\n",
       "    <tr>\n",
       "      <th>4</th>\n",
       "      <td>42.4</td>\n",
       "      <td>42.5</td>\n",
       "    </tr>\n",
       "    <tr>\n",
       "      <th>5</th>\n",
       "      <td>42.8</td>\n",
       "      <td>43.5</td>\n",
       "    </tr>\n",
       "    <tr>\n",
       "      <th>6</th>\n",
       "      <td>43.2</td>\n",
       "      <td>43.1</td>\n",
       "    </tr>\n",
       "    <tr>\n",
       "      <th>7</th>\n",
       "      <td>42.3</td>\n",
       "      <td>41.7</td>\n",
       "    </tr>\n",
       "    <tr>\n",
       "      <th>8</th>\n",
       "      <td>41.8</td>\n",
       "      <td>44.0</td>\n",
       "    </tr>\n",
       "    <tr>\n",
       "      <th>9</th>\n",
       "      <td>42.7</td>\n",
       "      <td>44.1</td>\n",
       "    </tr>\n",
       "  </tbody>\n",
       "</table>\n",
       "</div>"
      ],
      "text/plain": [
       "   New machine  Old machine\n",
       "0         42.1         42.7\n",
       "1         41.0         43.6\n",
       "2         41.3         43.8\n",
       "3         41.8         43.3\n",
       "4         42.4         42.5\n",
       "5         42.8         43.5\n",
       "6         43.2         43.1\n",
       "7         42.3         41.7\n",
       "8         41.8         44.0\n",
       "9         42.7         44.1"
      ]
     },
     "execution_count": 17,
     "metadata": {},
     "output_type": "execute_result"
    }
   ],
   "source": [
    "data\n"
   ]
  },
  {
   "cell_type": "code",
   "execution_count": 24,
   "metadata": {},
   "outputs": [
    {
     "name": "stdout",
     "output_type": "stream",
     "text": [
      "T Statistic is:  -3.3972307061176026\n",
      "P value is:  0.0032111425007745158\n"
     ]
    }
   ],
   "source": [
    "\n",
    "\n",
    "#  all the values are smaller \n",
    "\n",
    "# sample_mean1 = 105.5\n",
    "# sample_std1 = 20.1\n",
    "# n1 = 10\n",
    "\n",
    "# sample_mean2 = 90.9\n",
    "# sample_std2 = 12.2\n",
    "# n2 = 10\n",
    "\n",
    "statistic, pvalue = ttest_ind(data['New machine'],data['Old machine'])\n",
    "\n",
    "# pooled_sample_std = math.sqrt(((n1-1)*sample_std1**2 + (n2-1)*sample_std2**2)/(n1+n2-2))\n",
    "# statistic = (sample_mean1-sample_mean2)/(pooled_sample_std*math.sqrt((1/n1)+(1/n2)))\n",
    "print(\"T Statistic is: \", statistic) \n",
    "\n",
    "print(\"P value is: \", pvalue)\n",
    "\n",
    "# print(\"Critical Value of z is: \", t.ppf(0.05, n1+n2-2)) #alpha is 0.05 \n",
    "# one sided 0.05\n"
   ]
  },
  {
   "cell_type": "code",
   "execution_count": null,
   "metadata": {},
   "outputs": [],
   "source": [
    "# p value is smaller than alpha, reject Ho"
   ]
  }
 ],
 "metadata": {
  "kernelspec": {
   "display_name": "Python 3",
   "language": "python",
   "name": "python3"
  },
  "language_info": {
   "codemirror_mode": {
    "name": "ipython",
    "version": 3
   },
   "file_extension": ".py",
   "mimetype": "text/x-python",
   "name": "python",
   "nbconvert_exporter": "python",
   "pygments_lexer": "ipython3",
   "version": "3.7.6"
  }
 },
 "nbformat": 4,
 "nbformat_minor": 4
}
