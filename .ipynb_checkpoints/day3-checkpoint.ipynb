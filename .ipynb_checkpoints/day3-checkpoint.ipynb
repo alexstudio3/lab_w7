{
 "cells": [
  {
   "cell_type": "code",
   "execution_count": 7,
   "metadata": {},
   "outputs": [],
   "source": [
    "import statsmodels.api as sm\n",
    "from statsmodels.formula.api import ols\n",
    "import pandas as pd\n",
    "\n",
    "import scipy.stats as stats"
   ]
  },
  {
   "cell_type": "code",
   "execution_count": 19,
   "metadata": {},
   "outputs": [
    {
     "name": "stdout",
     "output_type": "stream",
     "text": [
      "                     df    sum_sq       mean_sq          F        PR(>F)\n",
      "C(Display_design)   3.0  66870.55  22290.183333  66.797073  2.882866e-09\n",
      "Residual           16.0   5339.20    333.700000        NaN           NaN\n"
     ]
    }
   ],
   "source": [
    "# use python to conduct ANOVA\n",
    "data = pd.read_excel('../anova_class_example_data.xlsx', sheet_name='data_collected')\n",
    "data.head()\n",
    "\n",
    "model = ols('Percent_increase_in_sales ~ C(Display_design)',data=data).fit()\n",
    "\n",
    "table = sm.stats.anova_lm(model)\n",
    "\n",
    "print(table)\n",
    "\n"
   ]
  },
  {
   "cell_type": "code",
   "execution_count": 22,
   "metadata": {},
   "outputs": [
    {
     "data": {
      "text/plain": [
       "F_onewayResult(statistic=66.79707321945864, pvalue=2.882865908493268e-09)"
      ]
     },
     "execution_count": 22,
     "metadata": {},
     "output_type": "execute_result"
    }
   ],
   "source": [
    "# What conclusions can you draw from the experiment and why?\n",
    "\n",
    "stats.f_oneway(data['Percent_increase_in_sales'][data['Display_design'] == 1],\n",
    "               data['Percent_increase_in_sales'][data['Display_design'] == 2],\n",
    "              data['Percent_increase_in_sales'][data['Display_design'] == 3],\n",
    "              data['Percent_increase_in_sales'][data['Display_design'] == 4])\n",
    "\n",
    "# F stat > f critical (3.24) ,reject null hypothesis\n"
   ]
  },
  {
   "cell_type": "code",
   "execution_count": 16,
   "metadata": {},
   "outputs": [
    {
     "data": {
      "text/plain": [
       "F_onewayResult(statistic=36.87895470100505, pvalue=7.506584272358903e-06)"
      ]
     },
     "execution_count": 16,
     "metadata": {},
     "output_type": "execute_result"
    }
   ],
   "source": [
    "data = pd.read_excel('../anova_lab_data.xlsx', sheet_name='data_collected')\n",
    "data.head()\n",
    "\n",
    "stats.f_oneway(\n",
    "    data['Etching Rate'][data['Power '] == '160 W'],\n",
    "               data['Etching Rate'][data['Power '] == '180 W'],\n",
    "               data['Etching Rate'][data['Power '] == '200 W'])\n",
    "\n",
    "# F stat > f critical\n",
    "\n",
    "# F(0.05, 2, 12) = 3.89\n",
    "\n",
    "# reject null hypothesis\n"
   ]
  },
  {
   "cell_type": "code",
   "execution_count": null,
   "metadata": {},
   "outputs": [],
   "source": []
  }
 ],
 "metadata": {
  "kernelspec": {
   "display_name": "Python 3",
   "language": "python",
   "name": "python3"
  },
  "language_info": {
   "codemirror_mode": {
    "name": "ipython",
    "version": 3
   },
   "file_extension": ".py",
   "mimetype": "text/x-python",
   "name": "python",
   "nbconvert_exporter": "python",
   "pygments_lexer": "ipython3",
   "version": "3.7.6"
  }
 },
 "nbformat": 4,
 "nbformat_minor": 4
}
